{
 "cells": [
  {
   "cell_type": "markdown",
   "metadata": {},
   "source": [
    "# Medical vs Non-Medical Image Classifier\n",
    "### TensorFlow/Keras Quick Training + PDF/URL Inference"
   ]
  },
  {
   "cell_type": "code",
   "execution_count": 7,
   "metadata": {},
   "outputs": [
    {
     "name": "stdout",
     "output_type": "stream",
     "text": [
      "✅ TensorFlow version: 2.19.0\n"
     ]
    }
   ],
   "source": [
    "import tensorflow as tf\n",
    "from tensorflow.keras.applications import MobileNetV2\n",
    "from tensorflow.keras.layers import Dense, GlobalAveragePooling2D, Dropout\n",
    "from tensorflow.keras.models import Model\n",
    "from tensorflow.keras.preprocessing.image import ImageDataGenerator\n",
    "from sklearn.metrics import classification_report, confusion_matrix\n",
    "import matplotlib.pyplot as plt\n",
    "import numpy as np\n",
    "import os, cv2\n",
    "\n",
    "print(\"✅ TensorFlow version:\", tf.__version__)\n"
   ]
  },
  {
   "cell_type": "code",
   "execution_count": null,
   "metadata": {},
   "outputs": [],
   "source": [
    "conda install -c conda-forge tensorflow-datasets\n"
   ]
  },
  {
   "cell_type": "code",
   "execution_count": null,
   "metadata": {},
   "outputs": [],
   "source": [
    "import tensorflow_datasets as tfds\n",
    "from sklearn.model_selection import train_test_split\n",
    "import requests, zipfile\n",
    "\n",
    "# 📥 Download MedMNIST (Chest X-rays)\n",
    "(x_train, y_train), (x_test, y_test) = tf.keras.datasets.mnist.load_data()  # Replace with MedMNIST loader\n",
    "\n",
    "# 📥 Download Kaggle Natural Images dataset (placeholder)\n",
    "url = \"https://data.deepai.org/naturalimages.zip\"\n",
    "zip_path = \"natural_images.zip\"\n",
    "if not os.path.exists(zip_path):\n",
    "    r = requests.get(url)\n",
    "    with open(zip_path, \"wb\") as f:\n",
    "        f.write(r.content)\n",
    "    with zipfile.ZipFile(zip_path, 'r') as zip_ref:\n",
    "        zip_ref.extractall(\"natural_images\")\n",
    "\n",
    "# 🔄 Preprocess into (image, label) arrays\n",
    "IMG_SIZE = 128\n",
    "def preprocess(img):\n",
    "    img = cv2.resize(img, (IMG_SIZE, IMG_SIZE))\n",
    "    return img / 255.0\n",
    "\n",
    "# Combine MedMNIST (label=1) and Natural Images (label=0)\n",
    "# ... load images into X, labels into y ...\n",
    "# X = np.array([...]); y = np.array([...])\n",
    "\n",
    "X_train, X_val, y_train, y_val = train_test_split(X, y, test_size=0.2, random_state=42)\n"
   ]
  },
  {
   "cell_type": "code",
   "execution_count": 29,
   "metadata": {},
   "outputs": [
    {
     "ename": "SyntaxError",
     "evalue": "unmatched ')' (3607209687.py, line 58)",
     "output_type": "error",
     "traceback": [
      "\u001b[1;36m  Cell \u001b[1;32mIn[29], line 58\u001b[1;36m\u001b[0m\n\u001b[1;33m    state=42)\u001b[0m\n\u001b[1;37m            ^\u001b[0m\n\u001b[1;31mSyntaxError\u001b[0m\u001b[1;31m:\u001b[0m unmatched ')'\n"
     ]
    }
   ],
   "source": [
    "import os, cv2, numpy as np\n",
    "import tensorflow as tf\n",
    "from tensorflow.keras.applications import MobileNetV2\n",
    "from tensorflow.keras.layers import Dense, GlobalAveragePooling2D, Dropout\n",
    "from tensorflow.keras.models import Model\n",
    "from sklearn.model_selection import train_test_split\n",
    "\n",
    "IMG_SIZE = 128\n",
    "\n",
    "# ✅ Preprocess helper\n",
    "def preprocess(img):\n",
    "    img = cv2.resize(img, (IMG_SIZE, IMG_SIZE))\n",
    "    return img / 255.0\n",
    "\n",
    "# ✅ Placeholder MedMNIST data (using MNIST here as medical)\n",
    "(x_train, y_train), (x_test, y_test) = tf.keras.datasets.mnist.load_data()\n",
    "x_train = np.stack([x_train]*3, axis=-1)\n",
    "y_train = np.ones(len(x_train))  # medical label=1\n",
    "\n",
    "# ✅ Load your local non-medical images from natural_images/\n",
    "X_nonmed, y_nonmed = [], []\n",
    "for root, dirs, files in os.walk(\"natural_images\"):\n",
    "    for file in files:\n",
    "        img_path = os.path.join(root, file)\n",
    "        img = cv2.imread(img_path)\n",
    "        if img is not None:\n",
    "            X_nonmed.append(preprocess(img))\n",
    "            y_nonmed.append(0)  # non-medical label=0\n",
    "\n",
    "X_nonmed = np.array(X_nonmed)\n",
    "y_nonmed = np.array(y_nonmed)\n",
    "\n",
    "# ✅ Combine datasets\n",
    "X = np.concatenate([x_train[:500], X_nonmed])\n",
    "y = np.concatenate([y_train[:500], y_nonmed])\n",
    "X = np.array([preprocess(img) for img in X])\n",
    "\n",
    "# ✅ Split train/val\n",
    "X_train, X_val, y_train, y_val = train_test_split(X, y, test_size=0.2, random_state=42)\n",
    "print(\"✅ Dataset ready:\", X_train.shape, X_val.shape)\n",
    "\n",
    "# ✅ Build MobileNetV2 model\n",
    "base_model = MobileNetV2(weights='imagenet', include_top=False, input_shape=(IMG_SIZE, IMG_SIZE, 3))\n",
    "x = base_model.output\n",
    "x = GlobalAveragePooling2D()(x)\n",
    "x = Dropout(0.3)(x)\n",
    "preds = Dense(1, activation='sigmoid')(x)\n",
    "\n",
    "model = Model(inputs=base_model.input, outputs=preds)\n",
    "for layer in base_model.layers:\n",
    "    layer.trainable = False\n",
    "\n",
    "model.compile(optimizer='adam', loss='binary_crossentropy', metrics=['accuracy'])\n",
    "model.summary()\n",
    "\n",
    "# ✅ Train the model\n",
    "history = model.fit(X_train, y_train, validation_data=(X_val, y_val), epochs=3, batch_size=32)\n",
    "state=42)\n",
    "print(\"✅ Dataset ready:\", X_train.shape, X_val.shape)\n",
    "\n",
    "# 🔨 Build MobileNetV2 model\n",
    "base_model = MobileNetV2(weights='imagenet', include_top=False, input_shape=(IMG_SIZE, IMG_SIZE, 3))\n",
    "x = base_model.output\n",
    "x = GlobalAveragePooling2D()(x)\n",
    "x = Dropout(0.3)(x)\n",
    "preds = Dense(1, activation='sigmoid')(x)\n",
    "\n",
    "model = Model(inputs=base_model.input, outputs=preds)\n",
    "for layer in base_model.layers:\n",
    "    layer.trainable = False\n",
    "\n",
    "model.compile(optimizer='adam', loss='binary_crossentropy', metrics=['accuracy'])\n",
    "model.summary()\n",
    "\n",
    "# ✅ Train the model\n",
    "history = model.fit(X_train, y_train, validation_data=(X_val, y_val), epochs=3, batch_size=32)"
   ]
  },
  {
   "cell_type": "code",
   "execution_count": null,
   "metadata": {},
   "outputs": [],
   "source": []
  }
 ],
 "metadata": {
  "kernelspec": {
   "display_name": "Python 3 (ipykernel)",
   "language": "python",
   "name": "python3"
  },
  "language_info": {
   "codemirror_mode": {
    "name": "ipython",
    "version": 3
   },
   "file_extension": ".py",
   "mimetype": "text/x-python",
   "name": "python",
   "nbconvert_exporter": "python",
   "pygments_lexer": "ipython3",
   "version": "3.12.7"
  }
 },
 "nbformat": 4,
 "nbformat_minor": 4
}
